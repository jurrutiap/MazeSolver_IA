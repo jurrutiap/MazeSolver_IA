{
 "cells": [
  {
   "cell_type": "markdown",
   "metadata": {},
   "source": [
    "## Reporte - Proyecto Maze Solver\n",
    "##### Pablo Gonzalez Baron, Juan Pablo Urrutia, Pablo Andres Dorado"
   ]
  },
  {
   "cell_type": "markdown",
   "metadata": {},
   "source": [
    "### Preguntas"
   ]
  },
  {
   "cell_type": "markdown",
   "metadata": {},
   "source": [
    "#### Explique qué es una heurística en problema del laberinto, proponga dos heurísticas y explique cómo pueden ayudar a resolver mejor el problema del laberinto."
   ]
  },
  {
   "cell_type": "markdown",
   "metadata": {},
   "source": [
    "Una función heurística en el contexto del problema del laberinto es una función que ofrece una medida conceptual entre el punto inicial y el punto final dentro del laberinto. En términos más específicos, esta función permite comprobar si dada cualquier posición en el laberinto, la distancia hasta el objetivo desde dicha posición mas el coste que supone llegar hasta el objetivo es la menor posible, en dado caso avanza hacia dicho nodo. Esta función es utilizada con el fin de ir guiando el camino de búsqueda de una forma mas eficiente sin necesidad de tener que evaluar todos los posibles caminos por fuerza bruta."
   ]
  },
  {
   "cell_type": "markdown",
   "metadata": {},
   "source": [
    "Dos ejemplos serían las siguientes medidas:\n",
    "* **`Manhattan Distance`**: se define como $$ d((a,b), (c,d)) = |a-c|+|b-d| $$ la cual resulta ser muy conveniente para resolver el problema del laberinto, ya que calcula distancias discretas, a diferencia de una distancia euclidiana.\n",
    "* **`Euclidean Distance`**: se define como $$ d((a,b), (c,d)) = sqrt(|a-c|^2+|b-d|^2) $$, esta medida es igual de valida que la anterior, sin embargo, puede resultar poco intuituva al momento de mirar los datos, por lo cual se prefiere la distancia Manhattan sobre esta."
   ]
  },
  {
   "cell_type": "markdown",
   "metadata": {},
   "source": [
    "#### Explique brevemente el algoritmo de búsqueda greedy. En particular, su estrategia de exploración y la representación de la frontera."
   ]
  },
  {
   "cell_type": "markdown",
   "metadata": {},
   "source": [
    "El objetivo del algoritmo de búsqueda greedy es encontrar el mejor camino a base de tomar decisiones localmente óptimas en cada desición de exploración. En el contexto del problema Maze Solver, la heurística se calcula como la distancia entre **la distancia entre el nodo potencial y el nodo objetivo**, y se escoge la menor de las medidas al avanzar. En cada iteración el algoritmo avanza hacia la dirección localmente mas óptima que le permita encontrar la ruta globalmente óptima dentro del conjunto de todas las rutas.\n",
    "Este algoritmo se guía exclusivamente por la función heurística que utiliza, lo cual puede no indicar el camino más óptimo de manera global, es decir este algoritmo no nos garantiza tener una solución óptima. Sin embargo, es un algoritmo de búsqueda completo."
   ]
  },
  {
   "cell_type": "markdown",
   "metadata": {},
   "source": [
    "#### Explique brevemente el algoritmo A*. En particular, la estrategia de búsqueda y la representación de la frontera."
   ]
  },
  {
   "cell_type": "markdown",
   "metadata": {},
   "source": [
    "Este algoritmo de búsqueda es un algoritmo de tipo heurístico o informado. A diferencia del algoritmo greedy, no solo tiene en cuenta una función heurística sino tambien el coste real del recorrido y de cada paso. Este algoritmo utiliza una función de evaluación que es la siguiente:\n",
    "\n",
    "$$\n",
    "f(n) = g(n) + h'(n)\n",
    "$$\n",
    "\n",
    "donde $h'(n)$ representa el valor heurístico del nodo a evaluar, desde el nodo actual $n$ hasta el nodo final, y $g(n)$ es el coste real de llegar hasta dicho nodo $n$, desde el nodo inicial. Entonces como mencionabamos al principio, **no solo tiene en cuenta el valor heurístico de ir desde el nodo actual hasta el final como el algoritmo greedy, sino tambien tiene en cuenta el coste real de ir desde el principio hasta el nodo actual.**. Este algoritmo resulta ser la combinación entre un Algoritmo de Búsqueda Uniforme y un Algoritmo Greedy."
   ]
  },
  {
   "cell_type": "markdown",
   "metadata": {},
   "source": [
    "#### Un algoritmo de búsqueda se dice admisible si tiene garantía de retornar una solución óptima. Si la función heurística utilizada por A* es admisible, entonces A* es admisible. Explique que es una heurística admisible, y pruebe la afirmación previa."
   ]
  },
  {
   "cell_type": "markdown",
   "metadata": {},
   "source": [
    "El contexto de algoritmos de búsqueda, una función heurística admisible es una función que nunca sobreestima el coste de alcanzar el objetivo, es decir, que estando en el punto actual la estimación del coste de alcanzar el objetivo final nunca es mayor que el menor coste posible, es decir que la solución propuesta por dicha función en determinado punto nunca es peor que la solución óptima.\n",
    "\n",
    "Ahora, probando la afirmación previa por contradicción, si suponemos que el algoritmo $A^*$ no es admisible entonces tendremos que $A^*$ no es capaz de encontrar una solución óptima desde un punto cualquiera al objetivo final, por lo tanto estando en un punto cualquiera $n$, el costo estimado por la función heurística $h(n)$ de ir desde el nodo actual $n$ hasta el objetivo no es óptimo, por lo tanto se producirá una sobreestimacion en el costo total de la solución $f(n)$, lo cual significa que la función heurística no es admisible, pero eso es una contradicción, pues tenemos como suposición que la función heurística utilizada por $A^*$ es admisible, por lo tanto el algoritmo $A^*$ **sí** es admisible."
   ]
  },
  {
   "cell_type": "markdown",
   "metadata": {},
   "source": [
    "#### Un algoritmo A es óptimamente eficiente con respecto a un conjunto de algoritmos alternativos **Alts** en un conjunto de problemas **P** si para cada problema P en **P** y cada algoritmo A' en **Alts**, el conjunto de nodos expandidos por A al resolver P es un subconjunto (posiblemente iguales) del conjunto de nodos expandidos por A' al resolver P. El estudio definitivo de la optimalidad eficiente de A* se debe a Rina Dechter y Judea Pearl [2]. Quienes consideraron una variedad de definiciones de **Alts** y **P** en combinación con la heurística de A* siendo meramente admisible o consistente y admisible. El resultado positivo más interesante que demostraron es que A*, con una heurística consistente, es óptimamente eficiente con respecto a todos los algoritmos de búsqueda similares a A* admisibles en todos los problemas de búsqueda \"no patológicos\". Este resultado no se cumple si la heurística de A* es admisible pero no consistente. Explique en que consiste una heurística consistente, muestre un ejemplo de una heurística admisible pero no consistente, y pruebe el resultado de Dechter y Pearl [2]."
   ]
  },
  {
   "cell_type": "markdown",
   "metadata": {},
   "source": [
    "Según la definición, una función heurística es consistente si, para todo nodo $n$ y todo sucesor $n'$ de $n$ generado por cualquier acción $A$, el costo estimado por la heurística de alcanzar el objetivo desde $n$ no es mayor que el costo de obtener $n'$ más el costo estimado de obtener el objetivo desde $n'$. Es decir, en términos más informales, cada nodo $n$ dará una estimación que, teniendo en cuenta el costo para llegar al siguiente nodo, es siempre menor que la estimación en el nodo $n+1$.\n",
    "\n",
    "Ahora, un ejemplo de una función heurística admisible pero no consistente $h(n)$ es una función que cumple lo siguiente:\n",
    "\n",
    "$$\n",
    "h(A) > 1 + h(C), \\ \\ h(C) \\leq 3, \\ \\ h(G) = 0,\n",
    "$$\n",
    "\n",
    "Por lo tanto la función heurística $h(n)$ tal que $h(A)=4$, $h(C)=1$, $h(G)=0$ es una función heurística admisible pero no consistente.\n",
    "\n",
    "Ahora demostraremos por contradicción el resultado de Dechter y Pearl [2], es decir, que el algoritmo $A^{*}$ con una heurística consistente es óptimamente eficiente con respecto a todos los algoritmos de búsqueda similares a $A^{*}$ admisibles en todos los problemas de búsqueda \"no patólogicos\":\n",
    "\n",
    "Supongamos que el algoritmo $A^{*}$ con una heurística consistente no es óptimamente eficiente, es decir, que existe un problema P dentro del conjunto de problemas de búsqueda \"no patólogicos\" y un algoritmo $A'$ similar a $A^{*}$ tal que el conjunto de nodos expandidos por $A^{*}$ al resolver $P$ es más grande que el conjunto de nodos expandidos por $A'$ para resolver $P$. Por lo tanto, hay una instancia de la búsqueda en la que $A'$ omite un nodo que $A^{*}$ expande, es decir el conjunto de nodos expandidos por $A'$ es un subconjunto del conjunto de nodos expandidos por $A^{*}$, luego por la contrarrecíproca del Teorema 11 de Dechter y Pearl [2], tenemos que la función heurística de $A^{*}$ no es admisible, y por la contrarrecíproca de la afirmación en Dechter y Pearl [2] que dice que \"consistencia implica admisibilidad\", tenemos entonces que la función heurística de $A^{*}$ no es consistente, pero esto es una contradicción, pues supusimos que la heurística del algoritmo $A^{*}$ si es consistente, por lo tanto podemos concluir que al algoritmo $A^{*}$ con una heurística consistente es óptimamente eficiente con respecto a todos los algoritmos de búsqueda similares a $A^{*}$ admisibles en todos los problemas de búsqueda \"no patólogicos\".\n"
   ]
  },
  {
   "cell_type": "markdown",
   "metadata": {},
   "source": []
  }
 ],
 "metadata": {
  "kernelspec": {
   "display_name": "Python 3.10.0 ('.venv-ia': venv)",
   "language": "python",
   "name": "python3"
  },
  "language_info": {
   "name": "python",
   "version": "3.10.0"
  },
  "orig_nbformat": 4,
  "vscode": {
   "interpreter": {
    "hash": "5ec91d4fbd898613525f4b411b3264ff9205c41a2250c9f3a291b6c781f8b57f"
   }
  }
 },
 "nbformat": 4,
 "nbformat_minor": 2
}
